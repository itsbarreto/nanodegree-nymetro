{
 "cells": [
  {
   "cell_type": "markdown",
   "metadata": {},
   "source": [
    "# Subway Data Analysis\n",
    "\n",
    "## Introduction\n",
    "\n",
    "O sistema de ônibus e trens de Nova Iorque - o Metro Transit Authority - fornece seus dados para download através de  arquivos csv. Uma das informações disponíveis são os dados das catracas do metrô que contém logs semanais de entradas cumulativas e saídas por catraca por estação de metrô em algum intervalo de tempo.\n",
    "\n",
    "\n",
    "Neste projeto iremos utilizar apenas os das catraca disponíveis em: http://web.mta.info/developers/turnstile.html.\n",
    "\n",
    "\n"
   ]
  },
  {
   "cell_type": "markdown",
   "metadata": {},
   "source": [
    "# Sobre este projeto\n",
    "\n",
    "Neste projeto você irá aplicar todos os conhecimentos adquiridos neste primeiro mês de curso. Iremos praticar tarefas básicas de aquisição, limpeza de dados e nesse processo iremos descobrir coisas essenciais sobre os dados utilizando o que foi aprendido no curso de estatística. \n",
    "\n",
    "O objetivo deste projeto é explorar a relação entre os dados das catracas do metro de Nova Iorque e o clima no dia da coleta. Para isso, além dos dados do metrô, precisaremos os dados de clima da cidade de Nova Iorque. \n",
    "\n",
    "Os principais pontos que serão verificados neste trabalho:\n",
    "\n",
    "- Coleta de dados da internet\n",
    "- Utilização de estatística para análise de dados\n",
    "- Manipulação de dados e criação de gráficos simples com o `Pandas`\n",
    "\n",
    "*Como conseguir ajuda*: Sugerimos que tente os seguintes canais, nas seguintes ordens:\n",
    "\n",
    "| Tipo de dúvida\\Canais         \t| Google \t| Fórum \t| Slack \t| Email \t|\n",
    "|-------------------------------\t|--------\t|-------\t|-------\t|-------\t|\n",
    "| Programação Pyhon e Pandas    \t| 1      \t| 2     \t| 3     \t|       \t|\n",
    "| Requisitos do projeto         \t|        \t| 1     \t| 2     \t| 3     \t|\n",
    "| Partes específicas do Projeto \t|        \t| 1     \t| 2     \t| 3     \t|\n",
    "\n",
    "Os endereços dos canais são:\n",
    "\n",
    "- Fórum: https://discussions.udacity.com/c/ndfdsi-project\n",
    "- Slack: [udacity-br.slack.com](https://udacity-br.slack.com/messages/C5MT6E3E1)\n",
    "- Email: data-suporte@udacity.com\n",
    "\n",
    "**Espera-se que o estudante entregue este relatório com:**\n",
    "\n",
    "- Todos os TODO feitos, pois eles são essenciais para que o código rode corretamente\n",
    "- O arquivo ipynb exportado como html\n",
    "\n",
    "Para entregar este projeto, vá a [sala de aula](https://coco.udacity.com/nanodegrees/nd111/locale/pt-br/versions/1.0.0/parts/339726/modules/339733/lessons/340886/project) e submeta o seu `.ipynb` e o html, zipados."
   ]
  },
  {
   "cell_type": "markdown",
   "metadata": {},
   "source": [
    "# Lembretes\n",
    "\n",
    "Antes de começarmos, alguns lembretes devem ter em mente ao usar os notebooks iPython:\n",
    "\n",
    "- Lembre-se de que você pode ver do lado esquerdo de uma célula de código quando foi executado pela última vez se houver um número dentro das chaves.\n",
    "- Quando você inicia uma nova sessão do notebook, certifique-se de executar todas as células até o ponto em que você deixou a última vez. Mesmo que a saída ainda seja visível a partir de quando você executou as células em sua sessão anterior, o kernel começa em um estado novo, então você precisará recarregar os dados, etc. em uma nova sessão.\n",
    "- O ponto anterior é útil para ter em mente se suas respostas não correspondem ao que é esperado nos questionários da aula. Tente recarregar os dados e execute todas as etapas de processamento um a um para garantir que você esteja trabalhando com as mesmas variáveis e dados que estão em cada fase do questionário."
   ]
  },
  {
   "cell_type": "markdown",
   "metadata": {},
   "source": [
    "## Seção 1 - Coleta de Dados\n",
    "\n",
    "### *Exercicio 1.1*\n",
    "\n",
    "Mãos a obra!! Agora é sua vez de coletar os dados. Escreva abaixo um código python que acesse o link http://web.mta.info/developers/turnstile.html e baixe os arquivos do mês de junho de 2017. O arquivo deverá ser salvo com o nome turnstile_100617.txt onde 10/06/17 é a data do arquivo.\n",
    "\n",
    "Abaixo seguem alguns comandos que poderão te ajudar:\n",
    "\n",
    "Utilize a biblioteca **urllib** para abrir e resgatar uma página da web. Utilize o comando abaixo onde **url** será o caminho da página da web onde se encontra o arquivo:\n",
    "\n",
    "```python\n",
    "u = urllib.urlopen(url)\n",
    "html = u.read()\n",
    "```\n",
    "\n",
    "Utilize a biblioteca **BeautifulSoup** para procurar na página pelo link do arquivo que deseja baixar. Utilize o comando abaixo para criar o seu objeto *soup* e procurar por todas as tags 'a'no documento:\n",
    " \n",
    " \n",
    "```python\n",
    "soup = BeautifulSoup(html, \"html.parser\")\n",
    "links = soup.find_all('a')\n",
    "```\n",
    "\n",
    "Uma dica para baixar apenas os arquivos do mês de junho é verificar a data no nome do arquivo. Por exemplo, para baixar o arquivo do dia 17/06/2017 verifique se o link termina com *\"turnstile_170610.txt\"*. Se não fizer isso você baixará todos os arquivos da página. Para fazer isso utilize o comando conforme abaixo:\n",
    "\n",
    "```python\n",
    "if '1706' in link.get('href'):\n",
    "```\n",
    "\n",
    "E a dica final é utilizar o comando abaixo para fazer o download do arquivo txt:\n",
    "\n",
    "```python\n",
    "urllib.urlretrieve(link_do_arquivo, filename)\n",
    "```\n",
    "\n",
    "Lembre-se, primeiro, carregue todos os pacotes e funções que você estará usando em sua análise."
   ]
  },
  {
   "cell_type": "code",
   "execution_count": 2,
   "metadata": {},
   "outputs": [],
   "source": [
    "from bs4 import BeautifulSoup, NavigableString, Tag\n",
    "import requests\n",
    "import urllib\n",
    "import urllib.request\n",
    "\n",
    "#your code here\n",
    "import re \n",
    "\n",
    "def get_sopa(url):\n",
    "    req = requests.get(url)\n",
    "    data = req.text\n",
    "    soup = BeautifulSoup(data, \"html5lib\")\n",
    "    return soup\n",
    "\n",
    "CSV_PATH = '../../csv/ny_subway/'\n",
    "\n",
    "urlb = 'http://web.mta.info/developers/'\n",
    "links = get_sopa(urlb+'turnstile.html').find_all('a')\n",
    "re_nm = re.compile(r'1706\\d{2}\\.txt$')\n",
    "h =[urlb + a.get('href') for a in links if not a.get('href') is None and len(re_nm.findall(a.get('href'))) > 0 ]\n",
    "list(map(lambda u: urllib.request.urlretrieve(u, CSV_PATH + u.split('/')[-1]), h));"
   ]
  },
  {
   "cell_type": "markdown",
   "metadata": {},
   "source": [
    "### *Exercicio 1.2*\n",
    "\n",
    "Escreva uma função que pegue a lista de nomes dos arquivos que você baixou no exercicio 1.1 e consolide-os em um único arquivo. Deve existir apenas uma linha de cabeçalho no arquivo de saida. \n",
    "\n",
    "Por exemplo, se o arquivo_1 tiver:\n",
    "linha 1...\n",
    "linha 2...\n",
    "\n",
    "e o outro arquivo, arquivo_2 tiver:\n",
    "linha 3...\n",
    "linha 4...\n",
    "linha 5...\n",
    "\n",
    "Devemos combinar o arquivo_1 com arquivo_2 em um arquivo mestre conforme abaixo:\n",
    "\n",
    "'C/A, UNIT, SCP, DATEn, TIMEn, DESCn, ENTRIESn, EXITSn'\n",
    "linha 1...\n",
    "linha 2...\n",
    "linha 3...\n",
    "linha 4...\n",
    "linha 5...\n"
   ]
  },
  {
   "cell_type": "code",
   "execution_count": 2,
   "metadata": {},
   "outputs": [],
   "source": [
    "def create_master_turnstile_file(filenames, output_file):\n",
    "    with open(output_file, 'w') as master_file:\n",
    "        master_file.write('C/A,UNIT,SCP,STATION, LINENAME, DIVISION, DATEn,TIMEn,DESCn,ENTRIESn,EXITSn\\n')\n",
    "        for filename in filenames:\n",
    "            # your code here\n",
    "            with open(filename,'r') as f:\n",
    "                content = f.read()\n",
    "                master_file.write(content[content.index('\\n')+1:])\n",
    "\n",
    "def make_file(n):\n",
    "    !rm -rf {n}\n",
    "    fs = !ls *.txt\n",
    "    create_master_turnstile_file(fs,n)\n",
    "\n",
    "filename = CSV_PATH + 'turnstile_1706.csv'\n",
    "make_file(filename)\n"
   ]
  },
  {
   "cell_type": "markdown",
   "metadata": {},
   "source": [
    "### *Exercicio 1.3*\n",
    "\n",
    "Neste exercício, escreva um função que leia o master_file criado no exercicio anterior e carregue-o em um pandas dataframe. Esta função deve filtrar para que o dataframe possua apenas linhas onde a coluna \"DESCn\" possua o valor \"Regular\".\n",
    "\n",
    "Por exemplo, se o data frame do pandas estiver conforme abaixo:\n",
    "    \n",
    "    ,C/A,UNIT,SCP,DATEn,TIMEn,DESCn,ENTRIESn,EXITSn\n",
    "    0,A002,R051,02-00-00,05-01-11,00:00:00,REGULAR,3144312,1088151\n",
    "    1,A002,R051,02-00-00,05-01-11,04:00:00,DOOR,3144335,1088159\n",
    "    2,A002,R051,02-00-00,05-01-11,08:00:00,REGULAR,3144353,1088177\n",
    "    3,A002,R051,02-00-00,05-01-11,12:00:00,DOOR,3144424,1088231\n",
    "\n",
    "O dataframe deverá ficar conforme abaixo depois de filtrar apenas as linhas onde a coluna DESCn possua o valor REGULAR:\n",
    "\n",
    "    0,A002,R051,02-00-00,05-01-11,00:00:00,REGULAR,3144312,1088151\n",
    "    2,A002,R051,02-00-00,05-01-11,08:00:00,REGULAR,3144353,1088177\n"
   ]
  },
  {
   "cell_type": "code",
   "execution_count": 3,
   "metadata": {},
   "outputs": [],
   "source": [
    "import pandas\n",
    "\n",
    "def filter_by_regular(filename):\n",
    "    turnstile_data = pandas.read_csv(filename,low_memory=False)\n",
    "    turnstile_data.columns = [c.replace(' ','') for c in turnstile_data.columns]\n",
    "    # more of your code here\n",
    "    return turnstile_data.loc[turnstile_data.DESCn == 'REGULAR']\n"
   ]
  },
  {
   "cell_type": "markdown",
   "metadata": {},
   "source": [
    "### *Exercicio 1.4*\n",
    "\n",
    "\n",
    "Os dados do metrô de NY possui dados cumulativos de entradas e saidas por linha. Assuma que você possui um dataframe chamado df que contém apenas linhas para uma catraca em particular (unico SCP, C/A, e UNIT). A função abaixo deve alterar essas entradas cumulativas para a contagem de entradas desde a última leitura (entradas desde a última linha do dataframe).\n",
    "\n",
    "Mais especificamente, você deverá fazer duas coisas:\n",
    "\n",
    "1 - Criar uma nova coluna chamada ENTRIESn_hourly\n",
    "2 - Inserir nessa coluna a diferença enre ENTRIESn da coluna atual e a da coluna anterior. Se a linha possuir alguma NAN, preencha/substitua por 1.\n",
    "\n",
    "Dica: as funções do pandas shift() e fillna() pode ser úteis nesse exercicio.\n",
    "\n",
    "Abaixo tem um exemplo de como seu dataframe deve ficar ao final desse exercicio:\n",
    "\n",
    "        C/A  UNIT       SCP     DATEn     TIMEn    DESCn  ENTRIESn    EXITSn  ENTRIESn_hourly\n",
    "    0     A002  R051  02-00-00  05-01-11  00:00:00  REGULAR   3144312   1088151                1\n",
    "    1     A002  R051  02-00-00  05-01-11  04:00:00  REGULAR   3144335   1088159               23\n",
    "    2     A002  R051  02-00-00  05-01-11  08:00:00  REGULAR   3144353   1088177               18\n",
    "    3     A002  R051  02-00-00  05-01-11  12:00:00  REGULAR   3144424   1088231               71\n",
    "    4     A002  R051  02-00-00  05-01-11  16:00:00  REGULAR   3144594   1088275              170\n",
    "    5     A002  R051  02-00-00  05-01-11  20:00:00  REGULAR   3144808   1088317              214\n",
    "    6     A002  R051  02-00-00  05-02-11  00:00:00  REGULAR   3144895   1088328               87\n",
    "    7     A002  R051  02-00-00  05-02-11  04:00:00  REGULAR   3144905   1088331               10\n",
    "    8     A002  R051  02-00-00  05-02-11  08:00:00  REGULAR   3144941   1088420               36\n",
    "    9     A002  R051  02-00-00  05-02-11  12:00:00  REGULAR   3145094   1088753              153\n",
    "    10    A002  R051  02-00-00  05-02-11  16:00:00  REGULAR   3145337   1088823              243"
   ]
  },
  {
   "cell_type": "code",
   "execution_count": 4,
   "metadata": {
    "scrolled": false
   },
   "outputs": [],
   "source": [
    "import pandas\n",
    "from IPython.core.display import display, HTML\n",
    "def get_hourly_entries(df):\n",
    "    #your code here\n",
    "    df = filter_by_regular(filename)\n",
    "    df.DATEn = pandas.to_datetime(df.DATEn)\n",
    "    df = df.groupby(['C/A','UNIT','SCP','DATEn','TIMEn','DESCn']).sum()\n",
    "    df['ENTRIESn_hourly'] = df['ENTRIESn'] - df.shift()['ENTRIESn']\n",
    "    df.ENTRIESn_hourly = df.ENTRIESn_hourly.fillna(1).astype(int)\n",
    "    return df\n",
    "\n"
   ]
  },
  {
   "cell_type": "markdown",
   "metadata": {},
   "source": [
    "### *Exercicio 1.5*\n",
    "\n",
    "Faça o mesmo do exercicio anterior mas agora considerando as saidas, coluna EXITSn.\n",
    "Para isso crie uma coluna chamada de EXITSn_hourly e insira a diferença entre a coluna EXITSn da linha atual versus a linha anterior. Se tiver algum NaN, preencha/substitua por 0.\n",
    "\n"
   ]
  },
  {
   "cell_type": "code",
   "execution_count": 5,
   "metadata": {},
   "outputs": [],
   "source": [
    "import pandas\n",
    "\n",
    "def get_hourly_exits(df):\n",
    "    \n",
    "    #your code here\n",
    "    df = filter_by_regular(filename)\n",
    "    df.DATEn = pandas.to_datetime(df.DATEn)\n",
    "    df = df.groupby(['C/A','UNIT','SCP','DATEn','TIMEn','DESCn']).sum()\n",
    "    df['EXITSn_hourly'] = df['EXITSn'] - df.shift()['EXITSn']\n",
    "    df.EXITSn_hourly = df.EXITSn_hourly.fillna(0).astype(int)\n",
    "    return df"
   ]
  },
  {
   "cell_type": "markdown",
   "metadata": {},
   "source": [
    "### *Exercicio 1.6*\n",
    "\n",
    "Dado uma variável de entrada que representa o tempo no formato de:\n",
    "     \"00:00:00\" (hora: minutos: segundos)\n",
    "    \n",
    "Escreva uma função para extrair a parte da hora do tempo variável de entrada\n",
    "E devolva-o como um número inteiro. Por exemplo:\n",
    "         \n",
    "         1) se a hora for 00, seu código deve retornar 0\n",
    "         2) se a hora for 01, seu código deve retornar 1\n",
    "         3) se a hora for 21, seu código deve retornar 21\n",
    "        \n",
    "Por favor, devolva a hora como um número inteiro.\n"
   ]
  },
  {
   "cell_type": "code",
   "execution_count": 6,
   "metadata": {},
   "outputs": [],
   "source": [
    "def time_to_hour(time):\n",
    "    #olhei no dtype que a coluna hora estah como object (string)\n",
    "    hour = int(time[:2])\n",
    "    return hour"
   ]
  },
  {
   "cell_type": "markdown",
   "metadata": {},
   "source": [
    "## Exercicio 2 - Análise dos dados\n",
    "\n",
    "### *Exercicio 2.1*\n",
    "\n",
    "Para verificar a relação entre o movimento do metrô e o clima, precisaremos complementar os dados do arquivo já baixado com os dados do clima.\n",
    "Nós complementamos para você este arquivo com os dados de clima de Nova Iorque  e disponibilizamos na área de materiais do projeto. Você pode acessa-lo pelo link: https://s3.amazonaws.com/content.udacity-data.com/courses/ud359/turnstile_data_master_with_weather.csv\n",
    "\n",
    "Agora que temos nossos dados em um arquivo csv, escreva um código python que leia este arquivo e salve-o em um data frame do pandas. \n",
    "\n",
    "Dica: \n",
    "\n",
    "Utilize o comando abaixo para ler o arquivo:\n",
    "\n",
    "```python\n",
    "pd.read_csv('output_list.txt', sep=\",\")\n",
    "```\n",
    "\n"
   ]
  },
  {
   "cell_type": "code",
   "execution_count": 4,
   "metadata": {},
   "outputs": [
    {
     "data": {
      "text/html": [
       "<div>\n",
       "<style scoped>\n",
       "    .dataframe tbody tr th:only-of-type {\n",
       "        vertical-align: middle;\n",
       "    }\n",
       "\n",
       "    .dataframe tbody tr th {\n",
       "        vertical-align: top;\n",
       "    }\n",
       "\n",
       "    .dataframe thead th {\n",
       "        text-align: right;\n",
       "    }\n",
       "</style>\n",
       "<table border=\"1\" class=\"dataframe\">\n",
       "  <thead>\n",
       "    <tr style=\"text-align: right;\">\n",
       "      <th></th>\n",
       "      <th>UNIT</th>\n",
       "      <th>DATEn</th>\n",
       "      <th>TIMEn</th>\n",
       "      <th>Hour</th>\n",
       "      <th>DESCn</th>\n",
       "      <th>ENTRIESn_hourly</th>\n",
       "      <th>EXITSn_hourly</th>\n",
       "      <th>maxpressurei</th>\n",
       "      <th>maxdewpti</th>\n",
       "      <th>mindewpti</th>\n",
       "      <th>...</th>\n",
       "      <th>meandewpti</th>\n",
       "      <th>meanpressurei</th>\n",
       "      <th>fog</th>\n",
       "      <th>rain</th>\n",
       "      <th>meanwindspdi</th>\n",
       "      <th>mintempi</th>\n",
       "      <th>meantempi</th>\n",
       "      <th>maxtempi</th>\n",
       "      <th>precipi</th>\n",
       "      <th>thunder</th>\n",
       "    </tr>\n",
       "  </thead>\n",
       "  <tbody>\n",
       "    <tr>\n",
       "      <th>0</th>\n",
       "      <td>R001</td>\n",
       "      <td>2011-05-01</td>\n",
       "      <td>01:00:00</td>\n",
       "      <td>1</td>\n",
       "      <td>REGULAR</td>\n",
       "      <td>0.0</td>\n",
       "      <td>0.0</td>\n",
       "      <td>30.31</td>\n",
       "      <td>42.0</td>\n",
       "      <td>35.0</td>\n",
       "      <td>...</td>\n",
       "      <td>39.0</td>\n",
       "      <td>30.27</td>\n",
       "      <td>0</td>\n",
       "      <td>0</td>\n",
       "      <td>5.0</td>\n",
       "      <td>50.0</td>\n",
       "      <td>60.0</td>\n",
       "      <td>69.0</td>\n",
       "      <td>0.0</td>\n",
       "      <td>0.0</td>\n",
       "    </tr>\n",
       "    <tr>\n",
       "      <th>1</th>\n",
       "      <td>R001</td>\n",
       "      <td>2011-05-01</td>\n",
       "      <td>05:00:00</td>\n",
       "      <td>5</td>\n",
       "      <td>REGULAR</td>\n",
       "      <td>217.0</td>\n",
       "      <td>553.0</td>\n",
       "      <td>30.31</td>\n",
       "      <td>42.0</td>\n",
       "      <td>35.0</td>\n",
       "      <td>...</td>\n",
       "      <td>39.0</td>\n",
       "      <td>30.27</td>\n",
       "      <td>0</td>\n",
       "      <td>0</td>\n",
       "      <td>5.0</td>\n",
       "      <td>50.0</td>\n",
       "      <td>60.0</td>\n",
       "      <td>69.0</td>\n",
       "      <td>0.0</td>\n",
       "      <td>0.0</td>\n",
       "    </tr>\n",
       "    <tr>\n",
       "      <th>2</th>\n",
       "      <td>R001</td>\n",
       "      <td>2011-05-01</td>\n",
       "      <td>09:00:00</td>\n",
       "      <td>9</td>\n",
       "      <td>REGULAR</td>\n",
       "      <td>890.0</td>\n",
       "      <td>1262.0</td>\n",
       "      <td>30.31</td>\n",
       "      <td>42.0</td>\n",
       "      <td>35.0</td>\n",
       "      <td>...</td>\n",
       "      <td>39.0</td>\n",
       "      <td>30.27</td>\n",
       "      <td>0</td>\n",
       "      <td>0</td>\n",
       "      <td>5.0</td>\n",
       "      <td>50.0</td>\n",
       "      <td>60.0</td>\n",
       "      <td>69.0</td>\n",
       "      <td>0.0</td>\n",
       "      <td>0.0</td>\n",
       "    </tr>\n",
       "    <tr>\n",
       "      <th>3</th>\n",
       "      <td>R001</td>\n",
       "      <td>2011-05-01</td>\n",
       "      <td>13:00:00</td>\n",
       "      <td>13</td>\n",
       "      <td>REGULAR</td>\n",
       "      <td>2451.0</td>\n",
       "      <td>3708.0</td>\n",
       "      <td>30.31</td>\n",
       "      <td>42.0</td>\n",
       "      <td>35.0</td>\n",
       "      <td>...</td>\n",
       "      <td>39.0</td>\n",
       "      <td>30.27</td>\n",
       "      <td>0</td>\n",
       "      <td>0</td>\n",
       "      <td>5.0</td>\n",
       "      <td>50.0</td>\n",
       "      <td>60.0</td>\n",
       "      <td>69.0</td>\n",
       "      <td>0.0</td>\n",
       "      <td>0.0</td>\n",
       "    </tr>\n",
       "    <tr>\n",
       "      <th>4</th>\n",
       "      <td>R001</td>\n",
       "      <td>2011-05-01</td>\n",
       "      <td>17:00:00</td>\n",
       "      <td>17</td>\n",
       "      <td>REGULAR</td>\n",
       "      <td>4400.0</td>\n",
       "      <td>2501.0</td>\n",
       "      <td>30.31</td>\n",
       "      <td>42.0</td>\n",
       "      <td>35.0</td>\n",
       "      <td>...</td>\n",
       "      <td>39.0</td>\n",
       "      <td>30.27</td>\n",
       "      <td>0</td>\n",
       "      <td>0</td>\n",
       "      <td>5.0</td>\n",
       "      <td>50.0</td>\n",
       "      <td>60.0</td>\n",
       "      <td>69.0</td>\n",
       "      <td>0.0</td>\n",
       "      <td>0.0</td>\n",
       "    </tr>\n",
       "  </tbody>\n",
       "</table>\n",
       "<p>5 rows × 21 columns</p>\n",
       "</div>"
      ],
      "text/plain": [
       "   UNIT      DATEn     TIMEn  Hour    DESCn  ENTRIESn_hourly  EXITSn_hourly  \\\n",
       "0  R001 2011-05-01  01:00:00     1  REGULAR              0.0            0.0   \n",
       "1  R001 2011-05-01  05:00:00     5  REGULAR            217.0          553.0   \n",
       "2  R001 2011-05-01  09:00:00     9  REGULAR            890.0         1262.0   \n",
       "3  R001 2011-05-01  13:00:00    13  REGULAR           2451.0         3708.0   \n",
       "4  R001 2011-05-01  17:00:00    17  REGULAR           4400.0         2501.0   \n",
       "\n",
       "   maxpressurei  maxdewpti  mindewpti   ...     meandewpti  meanpressurei  \\\n",
       "0         30.31       42.0       35.0   ...           39.0          30.27   \n",
       "1         30.31       42.0       35.0   ...           39.0          30.27   \n",
       "2         30.31       42.0       35.0   ...           39.0          30.27   \n",
       "3         30.31       42.0       35.0   ...           39.0          30.27   \n",
       "4         30.31       42.0       35.0   ...           39.0          30.27   \n",
       "\n",
       "   fog  rain  meanwindspdi  mintempi  meantempi  maxtempi  precipi  thunder  \n",
       "0    0     0           5.0      50.0       60.0      69.0      0.0      0.0  \n",
       "1    0     0           5.0      50.0       60.0      69.0      0.0      0.0  \n",
       "2    0     0           5.0      50.0       60.0      69.0      0.0      0.0  \n",
       "3    0     0           5.0      50.0       60.0      69.0      0.0      0.0  \n",
       "4    0     0           5.0      50.0       60.0      69.0      0.0      0.0  \n",
       "\n",
       "[5 rows x 21 columns]"
      ]
     },
     "metadata": {},
     "output_type": "display_data"
    },
    {
     "data": {
      "text/plain": [
       "UNIT                       object\n",
       "DATEn              datetime64[ns]\n",
       "TIMEn                      object\n",
       "Hour                        int64\n",
       "DESCn                      object\n",
       "ENTRIESn_hourly           float64\n",
       "EXITSn_hourly             float64\n",
       "maxpressurei              float64\n",
       "maxdewpti                 float64\n",
       "mindewpti                 float64\n",
       "minpressurei              float64\n",
       "meandewpti                float64\n",
       "meanpressurei             float64\n",
       "fog                         int64\n",
       "rain                        int64\n",
       "meanwindspdi              float64\n",
       "mintempi                  float64\n",
       "meantempi                 float64\n",
       "maxtempi                  float64\n",
       "precipi                   float64\n",
       "thunder                   float64\n",
       "dtype: object"
      ]
     },
     "metadata": {},
     "output_type": "display_data"
    }
   ],
   "source": [
    "import pandas as pd\n",
    "\n",
    "filename = CSV_PATH + \"turnstile_data_master_with_weather.csv\"\n",
    "#your code here\n",
    "def get_file_weather(fl):\n",
    "    df = pd.read_csv(fl, sep=\",\",parse_dates=[2],index_col=0)\n",
    "    df.rain = df.rain.astype(int)\n",
    "    df.fog = df.fog.astype(int)\n",
    "    return df\n",
    "\n",
    "df = get_file_weather(filename)\n",
    "display(df.head())\n",
    "display(df.dtypes)\n"
   ]
  },
  {
   "cell_type": "markdown",
   "metadata": {},
   "source": [
    "### *Exercicio 2.2*\n",
    "\n",
    "Agora crie uma função que calcule a quantidade de dias chuvosos, para isso retorne a contagem do numero de dias onde a coluna *\"rain\"* é igual a 1.\n",
    "\n",
    "Dica: Você também pode achar que a interpretação de números como números inteiros ou float pode não\n",
    "     funcionar inicialmente. Para contornar esta questão, pode ser útil converter\n",
    "     esses números para números inteiros. Isso pode ser feito escrevendo cast (coluna como inteiro).\n",
    "     Então, por exemplo, se queríamos lançar a coluna maxtempi como um número inteiro, nós devemos\n",
    "     escrever algo como cast (maxtempi as integer) = 76, em oposição a simplesmente\n",
    "     onde maxtempi = 76."
   ]
  },
  {
   "cell_type": "code",
   "execution_count": 7,
   "metadata": {},
   "outputs": [
    {
     "data": {
      "text/plain": [
       "10"
      ]
     },
     "metadata": {},
     "output_type": "display_data"
    }
   ],
   "source": [
    "def num_rainy_days(df):\n",
    "    #your code here\n",
    "    return display(df.loc[df.rain == 1].DATEn.nunique())\n",
    "num_rainy_days(df)"
   ]
  },
  {
   "cell_type": "markdown",
   "metadata": {},
   "source": [
    "### *Exercicio 2.3*\n",
    "\n",
    "Calcule se estava nebuloso ou não (0 ou 1) e a temperatura máxima para fog (isto é, a temperatura máxima \n",
    "     para dias nebulosos)."
   ]
  },
  {
   "cell_type": "code",
   "execution_count": 8,
   "metadata": {},
   "outputs": [
    {
     "data": {
      "text/plain": [
       "fog\n",
       "0    86.0\n",
       "1    81.0\n",
       "Name: maxtempi, dtype: float64"
      ]
     },
     "execution_count": 8,
     "metadata": {},
     "output_type": "execute_result"
    }
   ],
   "source": [
    "def max_temp_aggregate_by_fog(df):\n",
    "    #your code here \n",
    "    return df.groupby('fog')['maxtempi'].max()\n",
    "max_temp_aggregate_by_fog(df)"
   ]
  },
  {
   "cell_type": "markdown",
   "metadata": {},
   "source": [
    "### *Exercicio 2.4\n",
    "\n",
    "Calcule agora a média de 'meantempi' nos dias que são sábado ou domingo (finais de semana):"
   ]
  },
  {
   "cell_type": "code",
   "execution_count": 10,
   "metadata": {},
   "outputs": [
    {
     "data": {
      "text/plain": [
       "65.10066685403307"
      ]
     },
     "execution_count": 10,
     "metadata": {},
     "output_type": "execute_result"
    }
   ],
   "source": [
    "df.loc[df.DATEn.dt.weekday > 4]['meantempi'].mean()\n"
   ]
  },
  {
   "cell_type": "code",
   "execution_count": 9,
   "metadata": {},
   "outputs": [
    {
     "data": {
      "text/plain": [
       "65.10066685403307"
      ]
     },
     "execution_count": 9,
     "metadata": {},
     "output_type": "execute_result"
    }
   ],
   "source": [
    "def avg_weekend_temperature(filename):\n",
    "    df = get_file_weather(filename)\n",
    "    mean_temp_weekends = df.loc[df.DATEn.dt.weekday > 4]['meantempi'].mean()\n",
    "    return mean_temp_weekends\n",
    "avg_weekend_temperature(filename)"
   ]
  },
  {
   "cell_type": "markdown",
   "metadata": {},
   "source": [
    "### *Exercicio 2.5\n",
    "\n",
    "Calcule a média da temperatura mínima 'mintempi' nos dias chuvosos onde da temperatura mínima foi maior que do 55 graus:"
   ]
  },
  {
   "cell_type": "code",
   "execution_count": 13,
   "metadata": {},
   "outputs": [
    {
     "data": {
      "text/plain": [
       "61.238860398860396"
      ]
     },
     "execution_count": 13,
     "metadata": {},
     "output_type": "execute_result"
    }
   ],
   "source": [
    "def avg_min_temperature(filename):\n",
    "    df = get_file_weather(filename)\n",
    "    avg_min_temp_rainy = df.loc[(df.rain == 1) & (df.mintempi > 55)]['mintempi'].mean()\n",
    "    \n",
    "    return avg_min_temp_rainy\n",
    "avg_min_temperature(filename)"
   ]
  },
  {
   "cell_type": "markdown",
   "metadata": {},
   "source": [
    "### *Exercicio 2.6\n",
    "\n",
    "Antes de realizar qualquer análise, pode ser útil olhar para os dados que esperamos analisar. Mais especificamente, vamos examinR as entradas por hora em nossos dados do metrô de Nova York para determinar a distribuição dos dados. Estes dados são armazenados na coluna ['ENTRIESn_hourly'].\n",
    "    \n",
    "Trace dois histogramas nos mesmos eixos para mostrar as entradas quando esta chovendo vs quando não está chovendo. \n",
    "Abaixo está um exemplo sobre como traçar histogramas com pandas e matplotlib:\n",
    "     \n",
    "```python\n",
    "Turnstile_weather ['column_to_graph']. Hist ()\n",
    "```   \n",
    "    "
   ]
  },
  {
   "cell_type": "code",
   "execution_count": 10,
   "metadata": {},
   "outputs": [],
   "source": [
    "import numpy as np\n",
    "import pandas\n",
    "import matplotlib.pyplot as plt\n",
    "import seaborn as sns\n",
    "def entries_histogram(turnstile_weather):\n",
    "    plt.figure(figsize=(15,5))\n",
    "    turnstile_weather['ENTRIESn_hourly'].hist(bins=25)\n",
    "    return plt\n"
   ]
  },
  {
   "cell_type": "code",
   "execution_count": 11,
   "metadata": {},
   "outputs": [],
   "source": [
    "df = get_file_weather(filename)"
   ]
  },
  {
   "cell_type": "code",
   "execution_count": 12,
   "metadata": {},
   "outputs": [
    {
     "data": {
      "image/png": "[encoded data removed]",
      "text/plain": [
       "<Figure size 1080x360 with 1 Axes>"
      ]
     },
     "metadata": {},
     "output_type": "display_data"
    },
    {
     "data": {
      "text/plain": [
       "95777720.0"
      ]
     },
     "metadata": {},
     "output_type": "display_data"
    }
   ],
   "source": [
    "df_schuva = df.loc[df['rain'] == 0]\n",
    "entries_histogram(df_schuva ).show()\n",
    "display(df_schuva.ENTRIESn_hourly.sum())"
   ]
  },
  {
   "cell_type": "code",
   "execution_count": 13,
   "metadata": {},
   "outputs": [
    {
     "data": {
      "image/png": "[encoded data removed]",
      "text/plain": [
       "<Figure size 1080x360 with 1 Axes>"
      ]
     },
     "metadata": {},
     "output_type": "display_data"
    },
    {
     "data": {
      "text/plain": [
       "48754607.0"
      ]
     },
     "metadata": {},
     "output_type": "display_data"
    }
   ],
   "source": [
    "df_chuva = df.loc[df['rain'] == 1]\n",
    "entries_histogram(df_chuva).show()\n",
    "display(df_chuva.ENTRIESn_hourly.sum())\n"
   ]
  },
  {
   "cell_type": "markdown",
   "metadata": {},
   "source": [
    "Temos aqui duas belas distribuições assimétricas positivas"
   ]
  },
  {
   "cell_type": "markdown",
   "metadata": {},
   "source": [
    "### *Exercicio 2.7\n",
    "\n",
    "Os dados que acabou de plotar que tipo de ditribuição? Existe diferença na distribuição entre dias chuvosos e não chuvosos?"
   ]
  },
  {
   "cell_type": "markdown",
   "metadata": {},
   "source": [
    "** Resposta **: Ambas distribuições são assimétricas positivas entretanto a cauda da distribuição dos dias com chuva (segundo gráfico) é maior, isso possivelmente resultará em uma média maior (conforme será verificado abaixo)."
   ]
  },
  {
   "cell_type": "markdown",
   "metadata": {},
   "source": [
    "### *Exercicio 2.8\n",
    "\n",
    "Construa uma função que que retorne:\n",
    "\n",
    "1. A média das entradas com chuva\n",
    "2. A média das entradas sem chuva\n",
    "\n",
    "\n"
   ]
  },
  {
   "cell_type": "code",
   "execution_count": 14,
   "metadata": {},
   "outputs": [
    {
     "data": {
      "text/plain": [
       "(1105.4463767458733, 1090.278780151855, None)"
      ]
     },
     "execution_count": 14,
     "metadata": {},
     "output_type": "execute_result"
    }
   ],
   "source": [
    "import numpy as np\n",
    "\n",
    "import pandas\n",
    "def means(turnstile_weather):\n",
    "    ### YOUR CODE HERE ###\n",
    "    without_rain_mean, with_rain_mean  = tuple(turnstile_weather.groupby('rain')['ENTRIESn_hourly'].mean().values)\n",
    "    p = None\n",
    "    return with_rain_mean, without_rain_mean, p # leave this line for the grader\n",
    "means(get_file_weather(filename))"
   ]
  },
  {
   "cell_type": "markdown",
   "metadata": {},
   "source": [
    "Responda as perguntas abaixo de acordo com a saida das suas funções:\n",
    "\n",
    "1. Qual a média das entradas com chuva? \n",
    "2. Qual a média das entradas sem chuva?\n"
   ]
  },
  {
   "cell_type": "markdown",
   "metadata": {},
   "source": [
    "** Resposta **: \n",
    "01. 1105 entradas de passageiros/hora em dias com chuva\n",
    "02. 1090 entradas de passageiros/hora em dias sem chuva"
   ]
  },
  {
   "cell_type": "markdown",
   "metadata": {},
   "source": [
    "## Exercicio 3 - Map Reduce\n",
    "\n",
    "### *Exercicio 3.1*\n",
    "\n",
    "A entrada para esse exercício e o mesmo arquivo da seção anterior (Exercicio 2). Você pode baixar o arquivo neste link:\n",
    "\n",
    " https://s3.amazonaws.com/content.udacity-data.com/courses/ud359/turnstile_data_master_with_weather.csv\n",
    "\n",
    "Varmos criar um mapeador agora. Para cada linha de entrada, a saída do mapeador deve IMPRIMIR (não retornar) a UNIT como uma chave e o número de ENTRIESn_hourly como o valor. Separe a chave e o valor por uma guia. Por exemplo: 'R002 \\ t105105.0'\n",
    "\n",
    "Exporte seu mapeador em um arquivo chamado mapper_result.txt e envie esse arquivo juntamente com a sua submissão. O código para exportar seu mapeador já está escrito no código abaixo.\n",
    "\n",
    "\n"
   ]
  },
  {
   "cell_type": "code",
   "execution_count": 16,
   "metadata": {},
   "outputs": [],
   "source": [
    "import sys\n",
    "import re\n",
    "\n",
    "def mapper():\n",
    "    for i,line in enumerate(sys.stdin):\n",
    "        if i > 0:\n",
    "            c = line.split(',')\n",
    "            print(c[1] +'\\t'+c[6])\n",
    "        #!echo hello\n",
    "sys.stdin = open(CSV_PATH + 'turnstile_data_master_with_weather.csv')\n",
    "sys.stdout = open(CSV_PATH + 'mapper_result.txt', 'w')\n",
    "mapper()"
   ]
  },
  {
   "cell_type": "markdown",
   "metadata": {},
   "source": [
    "### *Exercicio 3.2*\n",
    "\n",
    "Agora crie o redutor. Dado o resultado do mapeador do exercicio anterior, o redutor deve imprimir(Não retornar) uma linha por UNIT, juntamente com o número total de ENTRIESn_hourly.Ao longo de maio (que é a duração dos nossos dados), separados por uma guia. Um exemplo de linha de saída do redutor pode ser assim: 'R001 \\ t500625.0'\n",
    "\n",
    "Você pode assumir que a entrada para o redutor está ordenada de tal forma que todas as linhas correspondentes a uma unidade particular são agrupados. No entanto a saida do redutor terá repetição pois existem lojas que aparecem em locais diferentes dos arquivos.\n",
    "\n",
    "Exporte seu redutor em um arquivo chamado reducer_result.txt e envie esse arquivo juntamente com a sua submissão."
   ]
  },
  {
   "cell_type": "code",
   "execution_count": 17,
   "metadata": {},
   "outputs": [],
   "source": [
    "def reducer():\n",
    "    u,e = '',0.0\n",
    "    for line in sys.stdin:\n",
    "        # your code here\n",
    "        a,b = tuple(line.split('\\t'))\n",
    "        if a != u and u != '':\n",
    "            print('%s\\t%.2f' %(u,e))\n",
    "            e = 0.0\n",
    "        else:\n",
    "            try:\n",
    "                e += float(b)\n",
    "            except:\n",
    "                pass\n",
    "        u = a\n",
    "    print('%s\\t%.2f' %(u,e))\n",
    "            \n",
    "       \n",
    "sys.stdin = open(CSV_PATH + 'mapper_result.txt')\n",
    "sys.stdout = open('reducer_result.txt', 'w')\n",
    "reducer()\n"
   ]
  }
 ],
 "metadata": {
  "celltoolbar": "Edit Metadata",
  "kernelspec": {
   "display_name": "Python 3",
   "language": "python",
   "name": "python3"
  },
  "language_info": {
   "codemirror_mode": {
    "name": "ipython",
    "version": 3
   },
   "file_extension": ".py",
   "mimetype": "text/x-python",
   "name": "python",
   "nbconvert_exporter": "python",
   "pygments_lexer": "ipython3",
   "version": "3.6.4"
  },
  "latex_envs": {
   "LaTeX_envs_menu_present": true,
   "autoclose": false,
   "autocomplete": true,
   "bibliofile": "biblio.bib",
   "cite_by": "apalike",
   "current_citInitial": 1,
   "eqLabelWithNumbers": true,
   "eqNumInitial": 1,
   "hotkeys": {
    "equation": "Ctrl-E",
    "itemize": "Ctrl-I"
   },
   "labels_anchors": false,
   "latex_user_defs": false,
   "report_style_numbering": false,
   "user_envs_cfg": false
  }
 },
 "nbformat": 4,
 "nbformat_minor": 2
}
